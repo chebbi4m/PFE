{
 "cells": [
  {
   "cell_type": "code",
   "execution_count": 4,
   "id": "8e3b200e-dc63-442b-94f1-0171186e5580",
   "metadata": {},
   "outputs": [
    {
     "name": "stdout",
     "output_type": "stream",
     "text": [
      "Search\n"
     ]
    },
    {
     "name": "stdin",
     "output_type": "stream",
     "text": [
      " piano\n"
     ]
    },
    {
     "name": "stdout",
     "output_type": "stream",
     "text": [
      "number of pages\n"
     ]
    },
    {
     "name": "stdin",
     "output_type": "stream",
     "text": [
      " 2\n"
     ]
    },
    {
     "name": "stdout",
     "output_type": "stream",
     "text": [
      "number of elements per page\n"
     ]
    },
    {
     "name": "stdin",
     "output_type": "stream",
     "text": [
      " 7\n"
     ]
    },
    {
     "name": "stdout",
     "output_type": "stream",
     "text": [
      "free or paid\n"
     ]
    },
    {
     "name": "stdin",
     "output_type": "stream",
     "text": [
      " free\n"
     ]
    },
    {
     "name": "stdout",
     "output_type": "stream",
     "text": [
      "number of stars\n"
     ]
    },
    {
     "name": "stdin",
     "output_type": "stream",
     "text": [
      " 5\n"
     ]
    },
    {
     "name": "stdout",
     "output_type": "stream",
     "text": [
      "https://www.udemy.com/api-2.0/courses/?page=2&page_size=7&search=piano&price=price-free&ratings=5\n",
      "{'count': 10, 'next': None, 'previous': 'https://www.udemy.com/api-2.0/courses/?page_size=7&price=price-free&ratings=5&search=piano', 'results': [{'_class': 'course', 'id': 4136118, 'title': 'Getting Your First Music Sales Online', 'url': '/course/getting-your-first-music-sales-online/', 'is_paid': False, 'price': 'Free', 'price_detail': None, 'price_serve_tracking_id': 'W6VIBh8UTYOgMgMocA62RA', 'visible_instructors': [{'_class': 'user', 'id': 164012362, 'title': 'Josh Liljeblad', 'name': 'Josh', 'display_name': 'Josh Liljeblad', 'job_title': 'Composer and performance artist located in Southern Californ', 'image_50x50': 'https://img-c.udemycdn.com/user/50x50/164012362_7ae4.jpg', 'image_100x100': 'https://img-c.udemycdn.com/user/100x100/164012362_7ae4.jpg', 'initials': 'JL', 'url': '/user/josh-liljeblad/'}], 'image_125_H': 'https://img-b.udemycdn.com/course/125_H/4136118_b870_2.jpg?secure=khwXkMsIkJz7UjCfA-xUqA%3D%3D%2C1644935184', 'image_240x135': 'https://img-b.udemycdn.com/course/240x135/4136118_b870_2.jpg?secure=eiadQtBc0XGYwRoLbhT5TA%3D%3D%2C1644935184', 'is_practice_test_course': False, 'image_480x270': 'https://img-b.udemycdn.com/course/480x270/4136118_b870_2.jpg?secure=HoxZu7ArAqVXvHDEaItuiw%3D%3D%2C1644935184', 'published_title': 'getting-your-first-music-sales-online', 'tracking_id': '5yUonPbVTsqfRi3gfUw_4Q', 'predictive_score': None, 'relevancy_score': None, 'input_features': None, 'lecture_search_result': None, 'curriculum_lectures': [], 'order_in_results': None, 'curriculum_items': [], 'headline': 'Advice and Step by Step Guide for Composers, Songwriters, and Producers', 'instructor_name': None}, {'_class': 'course', 'id': 4017982, 'title': 'Como Estudar Música no Exterior Pagando Barato - Intercâmbio', 'url': '/course/como-estudar-musica-no-exterior-pagando-barato-intercambio/', 'is_paid': False, 'price': 'Free', 'price_detail': None, 'price_serve_tracking_id': '9lwGO5LoRMSplwVs1blFCg', 'visible_instructors': [{'_class': 'user', 'id': 21221400, 'title': 'Gabriel Felix', 'name': 'Gabriel', 'display_name': 'Gabriel Felix', 'job_title': 'Musician', 'image_50x50': 'https://img-c.udemycdn.com/user/50x50/21221400_bd73_2.jpg', 'image_100x100': 'https://img-c.udemycdn.com/user/100x100/21221400_bd73_2.jpg', 'initials': 'GF', 'url': '/user/gabriel-felix-6/'}], 'image_125_H': 'https://img-b.udemycdn.com/course/125_H/4017982_46f4_2.jpg?secure=XRexQWN9FiseTo5K4oWcGw%3D%3D%2C1644935184', 'image_240x135': 'https://img-b.udemycdn.com/course/240x135/4017982_46f4_2.jpg?secure=x0RjRIxuxkikrtDaP3R9jQ%3D%3D%2C1644935184', 'is_practice_test_course': False, 'image_480x270': 'https://img-b.udemycdn.com/course/480x270/4017982_46f4_2.jpg?secure=XSbdnbQABwShxegVtU2BXA%3D%3D%2C1644935184', 'published_title': 'como-estudar-musica-no-exterior-pagando-barato-intercambio', 'tracking_id': 'PfCr7dwzRYGgLxqoKsem5g', 'predictive_score': None, 'relevancy_score': None, 'input_features': None, 'lecture_search_result': None, 'curriculum_lectures': [], 'order_in_results': None, 'curriculum_items': [], 'headline': 'Bolsas de Estudo, Melhores Escolas, Valores, Burocracias, Custo de Vida dos Países e Macetes Que Só Intercambistas Sabe.', 'instructor_name': None}, {'_class': 'course', 'id': 3970052, 'title': 'Música y percusión latinoamericana', 'url': '/course/musica-y-percusion-latinoamericana/', 'is_paid': False, 'price': 'Free', 'price_detail': None, 'price_serve_tracking_id': 'iGT4Z5zFRZGS-CV1Qv7YtQ', 'visible_instructors': [{'_class': 'user', 'id': 154268796, 'title': 'Gotalkto Virtual Campus - VIP contents', 'name': 'Gotalkto Virtual Campus -', 'display_name': 'Gotalkto Virtual Campus - VIP contents', 'job_title': 'Languages, Cooking, Personal Development, and more...', 'image_50x50': 'https://img-c.udemycdn.com/user/50x50/154268796_3da5_2.jpg', 'image_100x100': 'https://img-c.udemycdn.com/user/100x100/154268796_3da5_2.jpg', 'initials': 'GV', 'url': '/user/gotalkto-virtual-campus-vip-contents/'}], 'image_125_H': 'https://img-b.udemycdn.com/course/125_H/3970052_cdc0.jpg?secure=OuIaehjmWJtt4JWb0dgSCw%3D%3D%2C1644935184', 'image_240x135': 'https://img-b.udemycdn.com/course/240x135/3970052_cdc0.jpg?secure=kXHeDoq7D_MQwwPQ4XpaFg%3D%3D%2C1644935184', 'is_practice_test_course': False, 'image_480x270': 'https://img-b.udemycdn.com/course/480x270/3970052_cdc0.jpg?secure=Ibis__-46O2Ryz8KxkFlCQ%3D%3D%2C1644935184', 'published_title': 'musica-y-percusion-latinoamericana', 'tracking_id': '7CYAMUfHSeWcnJ34WUrQcw', 'predictive_score': None, 'relevancy_score': None, 'input_features': None, 'lecture_search_result': None, 'curriculum_lectures': [], 'order_in_results': None, 'curriculum_items': [], 'headline': 'Historia e Instrumentos de América Latina', 'instructor_name': None}], 'aggregations': [{'id': 'price', 'title': 'Price', 'options': [{'key': 'price', 'title': 'Paid', 'count': 250, 'value': 'price-paid'}, {'key': 'price', 'title': 'Free', 'count': 10, 'value': 'price-free'}]}, {'id': 'instructional_level', 'title': 'Level', 'options': [{'key': 'instructional_level', 'title': 'Beginner', 'count': 8, 'value': 'beginner'}, {'key': 'instructional_level', 'title': 'All Levels', 'count': 1, 'value': 'all'}, {'key': 'instructional_level', 'title': 'Expert', 'count': 1, 'value': 'expert'}]}, {'id': 'features', 'title': 'Features', 'options': [{'key': 'has_closed_caption', 'title': 'Captions', 'count': 7, 'value': 'true'}]}, {'id': 'language', 'title': 'Language', 'options': [{'key': 'language', 'title': 'English', 'count': 4, 'value': 'en'}, {'key': 'language', 'title': 'Español', 'count': 2, 'value': 'es'}, {'key': 'language', 'title': '日本語', 'count': 2, 'value': 'ja'}, {'key': 'language', 'title': 'Polski', 'count': 1, 'value': 'pl'}, {'key': 'language', 'title': 'Português', 'count': 1, 'value': 'pt'}]}, {'id': 'ratings', 'title': 'Ratings', 'options': [{'key': 'ratings', 'title': '4.5 & up', 'count': 59, 'value': '4.5'}, {'key': 'ratings', 'title': '4.0 & up', 'count': 94, 'value': '4.0'}, {'key': 'ratings', 'title': '3.5 & up', 'count': 109, 'value': '3.5'}, {'key': 'ratings', 'title': '3.0 & up', 'count': 111, 'value': '3.0'}]}, {'id': 'duration', 'title': 'Duration', 'options': [{'key': 'duration', 'title': '0-1 Hour', 'count': 4, 'value': 'extraShort'}, {'key': 'duration', 'title': '1-3 Hours', 'count': 6, 'value': 'short'}, {'key': 'duration', 'title': '3-6 Hours', 'count': 0, 'value': 'medium'}, {'key': 'duration', 'title': '6-17 Hours', 'count': 0, 'value': 'long'}, {'key': 'duration', 'title': '17+ Hours', 'count': 0, 'value': 'extraLong'}]}], 'search_tracking_id': 'QuCma63uTlWX3Q2NG7TJoA'}\n"
     ]
    }
   ],
   "source": [
    "import requests\n",
    "from requests.auth import HTTPBasicAuth\n",
    "link = \"https://www.udemy.com/api-2.0/courses/\"\n",
    "print(\"Search\")\n",
    "search = input()\n",
    "print(\"number of pages\")\n",
    "pages = input()\n",
    "print(\"number of elements per page\")\n",
    "page_size = input()\n",
    "print(\"free or paid\")\n",
    "price = input()\n",
    "print(\"number of stars\")\n",
    "rating = input()     \n",
    "new_link = link+\"?page=\"+pages+\"&page_size=\"+page_size+\"&search=\"+search+\"&price=price-\"+price+\"&ratings=\"+rating\n",
    "print(new_link)\n",
    "response = requests.get(new_link,auth = HTTPBasicAuth('DmcabxNiiVj5slAK8ycd4F7Te7jySRezaZYfr4RS', 'pDdWt1Yw0bno9vMslAIAjelMIC95QuTHG3LBjB7rDUpMlpV2fkNpnQnD3MBR8QMoeAos0lzI06HSqz4lHDXflQQrYQbQdyiWJNVxqK0hjH8BQPwxYMl9BjixJTSaoTOa'))\n",
    "print(response.json())"
   ]
  },
  {
   "cell_type": "code",
   "execution_count": null,
   "id": "75232c89-1173-4507-87c9-b373e0d4e0a5",
   "metadata": {},
   "outputs": [],
   "source": []
  }
 ],
 "metadata": {
  "kernelspec": {
   "display_name": "Python 3",
   "language": "python",
   "name": "python3"
  },
  "language_info": {
   "codemirror_mode": {
    "name": "ipython",
    "version": 3
   },
   "file_extension": ".py",
   "mimetype": "text/x-python",
   "name": "python",
   "nbconvert_exporter": "python",
   "pygments_lexer": "ipython3",
   "version": "3.8.8"
  }
 },
 "nbformat": 4,
 "nbformat_minor": 5
}
